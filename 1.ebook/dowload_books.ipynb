{
 "cells": [
  {
   "cell_type": "code",
   "execution_count": 15,
   "metadata": {},
   "outputs": [],
   "source": [
    "import os,sys,io\n",
    "import requests\n",
    "from bs4 import BeautifulSoup"
   ]
  },
  {
   "cell_type": "code",
   "execution_count": 16,
   "metadata": {},
   "outputs": [],
   "source": [
    "content_url = \"http://www.qingqingxs.org/86/86344/\"\n",
    "# \"http://www.qingqingxs.org/40/40248/\"\n",
    "contents = requests.get(url=content_url)\n",
    "all_text = BeautifulSoup(contents.text)\n",
    "# the attrs of fina_all function\n",
    "pre_urllist = all_text.find_all(name=\"ul\",attrs={\"class\":\"list-group list-charts\"})[0].find_all(\"a\")\n",
    "urllist = [str(i.get(\"href\")) for i in pre_urllist]"
   ]
  },
  {
   "cell_type": "code",
   "execution_count": null,
   "metadata": {},
   "outputs": [],
   "source": [
    "file = open(\"./ebook.txt\",\"w\")\n",
    "for page in range(506,831):\n",
    "    rootpath = \"http://www.qingqingxs.org/86/86344/\"\n",
    "    path = rootpath+str(page)+\".html\"\n",
    "    \n",
    "    try:\n",
    "        sub = requests.get(path)\n",
    "        sub.encoding='gbk'\n",
    "        text = BeautifulSoup(sub.text)\n",
    "        choose_text = text.find_all(name=\"div\",attrs={\"class\",\"panel-body content-body content-ext\"})[0].text\n",
    "        # replace &nbsp charachers\n",
    "        final_text = choose_text.replace(\"\\xa0\"*4,\"\\n\").replace(\"\\n\\r\\n\\n\",\"\\n\")\n",
    "    \n",
    "        file.write(final_text)\n",
    "    except IndexError:\n",
    "        continue\n",
    "        \n",
    "file.close()"
   ]
  },
  {
   "cell_type": "code",
   "execution_count": null,
   "metadata": {},
   "outputs": [],
   "source": []
  }
 ],
 "metadata": {
  "kernelspec": {
   "display_name": "Python 3",
   "language": "python",
   "name": "python3"
  },
  "language_info": {
   "codemirror_mode": {
    "name": "ipython",
    "version": 3
   },
   "file_extension": ".py",
   "mimetype": "text/x-python",
   "name": "python",
   "nbconvert_exporter": "python",
   "pygments_lexer": "ipython3",
   "version": "3.7.1"
  }
 },
 "nbformat": 4,
 "nbformat_minor": 4
}
